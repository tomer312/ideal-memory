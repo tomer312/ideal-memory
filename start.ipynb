{
 "cells": [
  {
   "cell_type": "code",
   "execution_count": 3,
   "metadata": {
    "collapsed": false
   },
   "outputs": [],
   "source": [
    "import requests # http abstraction layer\n",
    "\n",
    "\n",
    "# create a GET request object to the relevant URL and hold the response in variable 'res'\n",
    "res = requests.get(\"http://www.ncbi.nlm.nih.gov/portal/loader/pload.cgi?curl=http%3A%2F%2Fwww.ncbi.nlm.nih.gov%2Fsviewer%2Fviewer.cgi%3Fval%3D47118301%26db%3Dnuccore%26dopt%3Dfasta%26extrafeat%3D0%26fmt_mask%3D0%26retmode%3Dhtml%26withmarkup%3Don%26log%24%3Dseqview&pid=0\")\n",
    "\n",
    "# view 'res' content\n",
    "print(res.content)"
   ]
  }
 ],
 "metadata": {
  "anaconda-cloud": {},
  "kernelspec": {
   "display_name": "Python [Root]",
   "language": "python",
   "name": "Python [Root]"
  },
  "language_info": {
   "codemirror_mode": {
    "name": "ipython",
    "version": 3
   },
   "file_extension": ".py",
   "mimetype": "text/x-python",
   "name": "python",
   "nbconvert_exporter": "python",
   "pygments_lexer": "ipython3",
   "version": "3.5.2"
  }
 },
 "nbformat": 4,
 "nbformat_minor": 0
}
